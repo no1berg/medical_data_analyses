{
  "cells": [
    {
      "cell_type": "code",
      "metadata": {
        "jukit_cell_id": "9ThQ0hjEu2"
      },
      "source": [
        "# pylint: disable= pointless-string-statement"
      ],
      "outputs": [],
      "execution_count": null
    },
    {
      "cell_type": "markdown",
      "metadata": {
        "jukit_cell_id": "tNwmeMZmG0"
      },
      "source": [
        "# U.S. Medical Insurance Costs"
      ]
    },
    {
      "cell_type": "markdown",
      "metadata": {
        "jukit_cell_id": "yxC2c98IWP"
      },
      "source": [
        "## Project Overview\n",
        "For this project, you will be investigating a medical insurance costs dataset in a .csv file,  \n",
        "using the Python skills that you have developed.  \n",
        "This dataset and its parameters will seem familiar if you have,  \n",
        "done any of the previous Python projects in the data science path\n",
        "\n",
        "## Project Goals:\n",
        "Work locally on your own computer  \n",
        "Import a dataset into your program  \n",
        "Analyze a dataset by building out functions or class methods  \n",
        "Use libraries to assist in your analysis  \n",
        "Optional: Document and organize your findings  \n",
        "Optional: Make predictions about a dataset\u2019s features based on your findings  "
      ]
    },
    {
      "cell_type": "markdown",
      "metadata": {
        "jukit_cell_id": "SfhfwqE3OI"
      },
      "source": [
        "## Step 1. Look at the data in *insurance.csv*"
      ]
    },
    {
      "cell_type": "code",
      "metadata": {
        "jukit_cell_id": "c4Qq0VYK3F"
      },
      "source": [
        "# Import csv library\n",
        "import csv\n",
        "\n",
        "# Read the insurance.csv file\n",
        "# with open(\"insurance.csv\", newline=\"\") as insurance_obj:\n",
        "#     insurance_reader = csv.DictReader(insurance_obj)\n",
        "#     for row in insurance_reader:\n",
        "#         print(row)"
      ],
      "outputs": [],
      "execution_count": null
    },
    {
      "cell_type": "markdown",
      "metadata": {
        "jukit_cell_id": "MFR1uAzWtf"
      },
      "source": [
        "Data includes the age, sex, bmi, number of children, smoker status, region, and charges of patients.\n",
        "Data is stored in a .csv file, using delim = \",\"."
      ]
    },
    {
      "cell_type": "markdown",
      "metadata": {
        "jukit_cell_id": "1xE9Ys6jkY"
      },
      "source": [
        "## Step 2. Define the scope of the analysis  \n",
        "Potential Questions:\n",
        "* What is the average age of the patients?\n",
        "* What is the average cost (charge) of the patients?\n",
        "* What is the ratio between the sexes of the patients?\n",
        "* How does the different variables affect the charge within the dataset?\n",
        "    * Is there a difference in average charge when grouped by:\n",
        "        * Sexes?\n",
        "        * Smoker status?\n",
        "        * Region?\n",
        "        * Number of children?\n",
        "        * NB. These variables are likely confounded!\n",
        "    * Is there a difference in average BMI when grouped by:\n",
        "        * Sexes?\n",
        "        * Smoker status?\n",
        "        * Number of children?\n",
        "        * Region?\n",
        "        * NB. These variables are likely confounded!"
      ]
    },
    {
      "cell_type": "markdown",
      "metadata": {
        "jukit_cell_id": "UCw8xLwycq"
      },
      "source": [
        "## Step 3. Import the *insurance.csv* dataset"
      ]
    },
    {
      "cell_type": "code",
      "metadata": {
        "jukit_cell_id": "aKwpxSKW3Y"
      },
      "source": [
        "# Import libraries\n",
        "import csv\n",
        "\n",
        "# Read in the insurance.csv file as a file object\n",
        "# and store {\"number\": details} in insurance_dict\n",
        "with open(\"insurance.csv\", newline=\"\") as insurance_csv:\n",
        "    insurance_reader = csv.DictReader(insurance_csv)\n",
        "    # Create a dict to store the data in\n",
        "    insurance_dict = {}\n",
        "    key = 0\n",
        "    for row in insurance_reader:\n",
        "        insurance_dict.update(\n",
        "            {\n",
        "                key: {\n",
        "                    \"Age\": row[\"age\"],\n",
        "                    \"Sex\": row[\"sex\"],\n",
        "                    \"BMI\": row[\"bmi\"],\n",
        "                    \"Children\": row[\"children\"],\n",
        "                    \"Smoker\": row[\"smoker\"],\n",
        "                    \"Region\": row[\"region\"],\n",
        "                    \"Charges\": row[\"charges\"],\n",
        "                }\n",
        "            }\n",
        "        )\n",
        "        key += 1"
      ],
      "outputs": [],
      "execution_count": null
    },
    {
      "cell_type": "markdown",
      "metadata": {
        "jukit_cell_id": "hXZ0UdRdRg"
      },
      "source": [
        "## Step 4. Data Analysis\n",
        "\n",
        "### Step 4.0 Defining Functions"
      ]
    },
    {
      "cell_type": "code",
      "metadata": {
        "jukit_cell_id": "lFz1itt0Ad"
      },
      "source": [
        "# Create funtion to generate dictionary with key and details\n",
        "def create_dictionary(data, key):\n",
        "    \"\"\"\n",
        "    Function for reconstructing a dictionary grouped by specified key\n",
        "    ---\n",
        "    data = dict\n",
        "    key = key to group by\n",
        "    \"\"\"\n",
        "    temp_dictionary = {}\n",
        "    for record in data.values():\n",
        "        temp_keys = record.keys()\n",
        "        if key in temp_keys:\n",
        "            new_key_from_value = record.get(key)\n",
        "            temp_dictionary.setdefault(new_key_from_value, []).append(record)\n",
        "    print(f\"Created dictionary with {list(temp_dictionary.keys())} as the keys.\\n\")\n",
        "    return temp_dictionary"
      ],
      "outputs": [],
      "execution_count": null
    },
    {
      "cell_type": "code",
      "metadata": {
        "jukit_cell_id": "DfwlhTKlLN"
      },
      "source": [
        "# Create function to calculate average charge per group\n",
        "def calculate_average_charge(data):\n",
        "    \"\"\"\n",
        "    Function for Calculating Average Charge per Group\n",
        "    ---\n",
        "\n",
        "    data = Dictionary\n",
        "\n",
        "    \"\"\"\n",
        "    keys_list = list(data.keys())\n",
        "    charge_by_group = {}\n",
        "    counter = 0\n",
        "    for record in data.values():\n",
        "        total_charge = 0\n",
        "        total_patients = len(record)\n",
        "        for details in record:\n",
        "            charge = float(details.get(\"Charges\"))\n",
        "            total_charge += charge\n",
        "        average_charge = total_charge / float(total_patients)\n",
        "        charge_by_group.setdefault(keys_list[counter], average_charge)\n",
        "        counter += 1\n",
        "    return charge_by_group"
      ],
      "outputs": [],
      "execution_count": null
    },
    {
      "cell_type": "markdown",
      "metadata": {
        "jukit_cell_id": "KKXeCJq1xp"
      },
      "source": [
        "### Step 4.1 Sexes\n",
        "Does average charge differ between 'male' and 'female' patients?"
      ]
    },
    {
      "cell_type": "code",
      "metadata": {
        "jukit_cell_id": "c4RIgMqccp"
      },
      "source": [
        "# Construct dict with 'Sex' values as keys\n",
        "insurance_sex_dict = create_dictionary(insurance_dict, \"Sex\")\n",
        "\n",
        "# Calculate the per group average of Sexes\n",
        "PRECISION = 2\n",
        "average_charges_sexes = calculate_average_charge(insurance_sex_dict)\n",
        "charge_sexes_dif = abs(average_charges_sexes[\"female\"] - average_charges_sexes[\"male\"])\n",
        "print(\n",
        "    f\"Female patient average charge: {round(average_charges_sexes['female'], PRECISION)}\"\n",
        ")\n",
        "print(f\"Male patient average charge: {round(average_charges_sexes['male'], PRECISION)}\")\n",
        "print(f\"Difference between sexes: {round(charge_sexes_dif, PRECISION)}\")"
      ],
      "outputs": [
        {
          "output_type": "stream",
          "name": "stdout",
          "text": "Created dictionary with ['female', 'male'] as the keys.\n\nFemale patient average charge: 12569.58\nMale patient average charge: 13956.75\nDifference between sexes: 1387.17\n"
        }
      ],
      "execution_count": 1
    },
    {
      "cell_type": "markdown",
      "metadata": {
        "jukit_cell_id": "MO3Y7R8KcD"
      },
      "source": [
        "### Setp 4.2 Smoker Status"
      ]
    },
    {
      "cell_type": "code",
      "metadata": {
        "jukit_cell_id": "6Ms6LGIMTx"
      },
      "source": [
        "# Construct dict with 'Smoker Status' as keys ('yes', 'no')\n",
        "insurance_smoker_dict = create_dictionary(insurance_dict, \"Smoker\")\n",
        "\n",
        "# Calculate the per group average of Smoker status\n",
        "average_charges_smokerstatus = calculate_average_charge(insurance_smoker_dict)\n",
        "charge_smokerstatus_dif = abs(\n",
        "    average_charges_smokerstatus[\"yes\"] - average_charges_smokerstatus[\"no\"]\n",
        ")\n",
        "print(\n",
        "    f\"Smokers average insurance charge: {round(average_charges_smokerstatus['yes'], PRECISION)}\"\n",
        ")\n",
        "print(\n",
        "    f\"Non-smokers average insurance charge: {round(average_charges_smokerstatus['no'], PRECISION)}\"\n",
        ")\n",
        "print(\n",
        "    f\"Difference between Smokers and Non-smokers: {round(charge_smokerstatus_dif, PRECISION)}\"\n",
        ")"
      ],
      "outputs": [
        {
          "output_type": "stream",
          "name": "stdout",
          "text": "Created dictionary with ['yes', 'no'] as the keys.\n\nSmokers average insurance charge: 32050.23\nNon-smokers average insurance charge: 8434.27\nDifference between Smokers and Non-smokers: 23615.96\n"
        }
      ],
      "execution_count": 2
    }
  ],
  "metadata": {
    "anaconda-cloud": {},
    "kernelspec": {
      "display_name": "python",
      "language": "python",
      "name": "python3"
    }
  },
  "nbformat": 4,
  "nbformat_minor": 4
}